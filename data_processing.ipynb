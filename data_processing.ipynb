{
 "cells": [
  {
   "attachments": {},
   "cell_type": "markdown",
   "metadata": {},
   "source": [
    "# Data downloading\n",
    "\n",
    "## 1.Downing allosteric site data from shsmu.edu.cn\n",
    "\n",
    "> `data/allosteric_site_shsmu.json` \n",
    "> \n",
    "> contains data crawling form shsmu.edu.cn(home->featrue->site)."
   ]
  },
  {
   "cell_type": "code",
   "execution_count": null,
   "metadata": {},
   "outputs": [],
   "source": [
    "# there are 1928 allosteric site in shsmu, but 1928th 3GVU can not download.\n",
    "\n",
    "from utils.data_download import download_shsmu_as, download_rcsb, unzip\n",
    "\n",
    "allosteric_site_index = 'data/allosteric_site_shsmu.json'\n",
    "\n",
    "download_shsmu_as(allosteric_site_path=allosteric_site_index, outpath='data/shsmu_allosteric_site/')\n",
    "unzip(origin_dir='data/shsmu_allosteric_site/', outdir='data/shsmu_allosteric_site/allosteric_site/')\n",
    "\n",
    "!rm -r data/shsmu_allosteric_site/*.pdb.gz\n",
    "\n",
    "download_rcsb(allosteric_site_path=allosteric_site_index, outpath='data/shsmu_allosteric_site/')\n",
    "\n",
    "!rm -r data/shsmu_allosteric_site/3gvu.pdb.gz\n",
    "\n",
    "unzip(origin_dir='data/shsmu_allosteric_site/', outdir='data/shsmu_allosteric_site/rscb_pdb/')\n",
    "\n",
    "!rm -r data/shsmu_allosteric_site/*.pdb.gz"
   ]
  },
  {
   "attachments": {},
   "cell_type": "markdown",
   "metadata": {},
   "source": [
    "> `data/ASD_Release_201909_AS.txt` \n",
    ">\n",
    "> is the description file of the allostericsite, but hard to read."
   ]
  },
  {
   "cell_type": "code",
   "execution_count": null,
   "metadata": {},
   "outputs": [],
   "source": [
    "from utils.data_process import transform_txt_to_csv\n",
    "\n",
    "txt_path = 'data/ASD_Release_201909_AS.txt'\n",
    "csv_path = 'data/ASD_Release_201909_AS.csv'\n",
    "transform_txt_to_csv(path=txt_path, outpath=csv_path)"
   ]
  },
  {
   "attachments": {},
   "cell_type": "markdown",
   "metadata": {},
   "source": [
    "## 2.Download pretain data form rcsb\n",
    "\n",
    "> `data/pretrain/list_file_protein_xray_max3A_total.txt`\n",
    ">\n",
    "> includes pdbids with resolution of 0.5 ~ 3A obtained by X-Ray experiment."
   ]
  },
  {
   "cell_type": "code",
   "execution_count": null,
   "metadata": {},
   "outputs": [],
   "source": [
    "# download logs are stored in succeed.log, timeout.log, wrang.log\n",
    "\n",
    "from utils.data_download import download_pretarining_data, redownload_error_pretarining_data\n",
    "\n",
    "pdblist = 'data/pretrain/list_file_protein_xray_max3A_total.txt'\n",
    "output_path = 'data/pretrain/'\n",
    "\n",
    "download_pretarining_data(list_path=pdblist, outpath=output_path)"
   ]
  },
  {
   "attachments": {},
   "cell_type": "markdown",
   "metadata": {},
   "source": [
    "> If there are links in timeout.log or wrang.log run redownload_error_pretarining_data() to redownload failed pdbs."
   ]
  },
  {
   "cell_type": "code",
   "execution_count": null,
   "metadata": {},
   "outputs": [],
   "source": [
    "timeout_path = 'data/pretrain/timeout.log'\n",
    "wrang_path = 'data/pretrain/wrang.log'\n",
    "\n",
    "redownload_error_pretarining_data(timeout_path, wrang_path, output_path)"
   ]
  },
  {
   "cell_type": "code",
   "execution_count": null,
   "metadata": {},
   "outputs": [],
   "source": [
    "from utils.data_download import unzip\n",
    "\n",
    "dir_path = '/mnt/g/Little-LL/pretrain/'\n",
    "out_path = '/mnt/g/Little-LL/pretrain_pdb/'\n",
    "\n",
    "unzip(dir_path, out_path)"
   ]
  },
  {
   "attachments": {},
   "cell_type": "markdown",
   "metadata": {},
   "source": [
    "# Data processing"
   ]
  },
  {
   "cell_type": "code",
   "execution_count": null,
   "metadata": {},
   "outputs": [],
   "source": [
    "s = \"ATOM      1  N   PHE A   3     127.591  57.948 -15.781  0.50 28.16           N  \"\n",
    "print(s[0:4], s[21], s[17:20], len(s[22:26]), len(s[22:26].strip()))"
   ]
  },
  {
   "attachments": {},
   "cell_type": "markdown",
   "metadata": {},
   "source": [
    "## 1.Build a BERT tokenizer of residue"
   ]
  },
  {
   "cell_type": "code",
   "execution_count": null,
   "metadata": {},
   "outputs": [],
   "source": [
    "# optional step\n",
    "\n",
    "from utils.data_process import build_tokenizer_dataset, tokenizer_json_to_txt\n",
    "\n",
    "pdb_paths = '/mnt/g/Little-LL/pretrain_pdb/'\n",
    "output_path ='/mnt/g/Little-LL/pretrain_tokenizer/'\n",
    "\n",
    "build_tokenizer_dataset(path=pdb_paths, outpath=output_path)\n",
    "tokenizer_json_to_txt(output_path)"
   ]
  },
  {
   "attachments": {},
   "cell_type": "markdown",
   "metadata": {},
   "source": [
    "cd `models/tokenizer` and run `python tokenizer_building.py`\n",
    "\n",
    "the output tokenizer config is in `models/tokenizer/residue` "
   ]
  },
  {
   "cell_type": "code",
   "execution_count": 1,
   "metadata": {},
   "outputs": [
    {
     "name": "stdout",
     "output_type": "stream",
     "text": [
      "pdbid:  A_ASD0002_1_1KFL_1\n",
      "chain:  A\n",
      "R I P Q A D L G L S C F S V K V\n",
      "16\n",
      "['40', '148', '150', '151', '154', '155', '175', '178', '179', '180', '181', '209', '211', '212', '214', '221']\n",
      "16\n",
      "[{'x': '9.599', 'y': '53.466', 'z': '78.754'}, {'x': '17.486', 'y': '38.644', 'z': '68.225'}, {'x': '15.143', 'y': '42.596', 'z': '71.879'}, {'x': '12.309', 'y': '42.556', 'z': '68.128'}, {'x': '11.141', 'y': '45.556', 'z': '74.613'}, {'x': '7.076', 'y': '45.614', 'z': '74.256'}, {'x': '21.054', 'y': '47.272', 'z': '70.986'}, {'x': '17.434', 'y': '51.542', 'z': '70.011'}, {'x': '16.637', 'y': '49.988', 'z': '73.155'}, {'x': '12.406', 'y': '52.048', 'z': '73.487'}, {'x': '14.449', 'y': '51.720', 'z': '77.091'}, {'x': '21.473', 'y': '46.827', 'z': '65.080'}, {'x': '18.388', 'y': '41.775', 'z': '63.692'}, {'x': '15.131', 'y': '40.312', 'z': '63.228'}, {'x': '8.781', 'y': '42.614', 'z': '64.684'}, {'x': '18.593', 'y': '48.306', 'z': '62.582'}]\n",
      "pdbid:  A_ASD0002_1_1KFL_1\n",
      "chain:  B\n",
      "N D D L R I I\n",
      "7\n",
      "['5', '6', '7', '8', '9', '10', '13']\n",
      "7\n",
      "[{'x': '5.355', 'y': '50.921', 'z': '74.036'}, {'x': '7.604', 'y': '49.154', 'z': '69.166'}, {'x': '10.497', 'y': '50.338', 'z': '67.185'}, {'x': '10.060', 'y': '54.540', 'z': '70.456'}, {'x': '15.052', 'y': '55.315', 'z': '70.937'}, {'x': '13.915', 'y': '52.346', 'z': '65.100'}, {'x': '13.775', 'y': '47.932', 'z': '60.014'}]\n"
     ]
    }
   ],
   "source": [
    "from utils.data_process import extract_residue_avg\n",
    "\n",
    "results, positions, orders = extract_residue_avg('data/shsmu_allosteric_site/allosteric_site/1KFL.pdb')\n",
    "\n",
    "for i in range(len(results)):\n",
    "    print('pdbid: ', (results[i])[0])\n",
    "    print('chain: ', (results[i])[1])\n",
    "    print(' '.join((results[i])[2:]))\n",
    "    print(len(orders[i]))\n",
    "    print(orders[i])\n",
    "    print(len(positions[i]))\n",
    "    print(positions[i])"
   ]
  }
 ],
 "metadata": {
  "kernelspec": {
   "display_name": "pytorch",
   "language": "python",
   "name": "python3"
  },
  "language_info": {
   "codemirror_mode": {
    "name": "ipython",
    "version": 3
   },
   "file_extension": ".py",
   "mimetype": "text/x-python",
   "name": "python",
   "nbconvert_exporter": "python",
   "pygments_lexer": "ipython3",
   "version": "3.10.4"
  },
  "orig_nbformat": 4
 },
 "nbformat": 4,
 "nbformat_minor": 2
}
