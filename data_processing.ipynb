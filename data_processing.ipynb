{
    "cells": [
        {
            "attachments": {},
            "cell_type": "markdown",
            "metadata": {},
            "source": [
                "# Data downloading\n",
                "\n",
                "## 1.Downing allosteric site data from shsmu.edu.cn\n",
                "\n",
                "> `data/allosteric_site_shsmu.json` \n",
                "> \n",
                "> contains data crawling form shsmu.edu.cn(home->featrue->site)."
            ]
        },
        {
            "cell_type": "code",
            "execution_count": null,
            "metadata": {},
            "outputs": [],
            "source": [
                "# there are 1928 allosteric site in shsmu, but 1928th 3GVU can not download.\n",
                "\n",
                "from utils.data_download import download_shsmu_as, download_rcsb, unzip\n",
                "\n",
                "allosteric_site_index = 'data/allosteric_site_shsmu.json'\n",
                "\n",
                "download_shsmu_as(allosteric_site_path=allosteric_site_index, outpath='data/shsmu_allosteric_site/')\n",
                "unzip(origin_dir='data/shsmu_allosteric_site/', outdir='data/shsmu_allosteric_site/allosteric_site/')\n",
                "\n",
                "!rm -r data/shsmu_allosteric_site/*.pdb.gz\n",
                "\n",
                "download_rcsb(allosteric_site_path=allosteric_site_index, outpath='data/shsmu_allosteric_site/')\n",
                "\n",
                "!rm -r data/shsmu_allosteric_site/3gvu.pdb.gz\n",
                "\n",
                "unzip(origin_dir='data/shsmu_allosteric_site/', outdir='data/shsmu_allosteric_site/rscb_pdb/')\n",
                "\n",
                "!rm -r data/shsmu_allosteric_site/*.pdb.gz"
            ]
        },
        {
            "attachments": {},
            "cell_type": "markdown",
            "metadata": {},
            "source": [
                "> `data/ASD_Release_201909_AS.txt` \n",
                ">\n",
                "> is the description file of the allostericsite, but hard to read."
            ]
        },
        {
            "cell_type": "code",
            "execution_count": null,
            "metadata": {},
            "outputs": [],
            "source": [
                "from utils.data_process import transform_txt_to_csv\n",
                "\n",
                "txt_path = 'data/ASD_Release_201909_AS.txt'\n",
                "csv_path = 'data/ASD_Release_201909_AS.csv'\n",
                "transform_txt_to_csv(path=txt_path, outpath=csv_path)"
            ]
        },
        {
            "attachments": {},
            "cell_type": "markdown",
            "metadata": {},
            "source": [
                "## 2.Download pretain data form rcsb\n",
                "\n",
                "> `data/pretrain/list_file_protein_xray_max3A_total.txt`\n",
                ">\n",
                "> includes pdbids with resolution of 0.5 ~ 3A obtained by X-Ray experiment."
            ]
        },
        {
            "cell_type": "code",
            "execution_count": null,
            "metadata": {},
            "outputs": [],
            "source": [
                "# download logs are stored in succeed.log, timeout.log, wrang.log\n",
                "\n",
                "from utils.data_download import download_pretarining_data, redownload_error_pretarining_data\n",
                "\n",
                "pdblist = 'data/pretrain/list_file_protein_xray_max3A_total.txt'\n",
                "output_path = 'data/pretrain/'\n",
                "\n",
                "download_pretarining_data(list_path=pdblist, outpath=output_path)"
            ]
        },
        {
            "attachments": {},
            "cell_type": "markdown",
            "metadata": {},
            "source": [
                "> If there are links in timeout.log or wrang.log run redownload_error_pretarining_data() to redownload failed pdbs."
            ]
        },
        {
            "cell_type": "code",
            "execution_count": null,
            "metadata": {},
            "outputs": [],
            "source": [
                "timeout_path = 'data/pretrain/timeout.log'\n",
                "wrang_path = 'data/pretrain/wrang.log'\n",
                "\n",
                "redownload_error_pretarining_data(timeout_path, wrang_path, output_path)"
            ]
        },
        {
            "cell_type": "code",
            "execution_count": null,
            "metadata": {},
            "outputs": [],
            "source": [
                "from utils.data_download import unzip\n",
                "\n",
                "dir_path = '/mnt/g/Little-LL/pretrain/'\n",
                "out_path = '/mnt/g/Little-LL/pretrain_pdb/'\n",
                "\n",
                "unzip(dir_path, out_path)"
            ]
        },
        {
            "attachments": {},
            "cell_type": "markdown",
            "metadata": {},
            "source": [
                "# Data processing"
            ]
        },
        {
            "cell_type": "code",
            "execution_count": null,
            "metadata": {},
            "outputs": [],
            "source": [
                "s = \"ATOM      1  N   PHE A   3     127.591  57.948 -15.781  0.50 28.16           N  \"\n",
                "print(s[0:4], s[21], s[17:20], len(s[22:26]), len(s[22:26].strip()))"
            ]
        },
        {
            "attachments": {},
            "cell_type": "markdown",
            "metadata": {},
            "source": [
                "## 1.Build a BERT tokenizer of residue"
            ]
        },
        {
            "cell_type": "code",
            "execution_count": null,
            "metadata": {},
            "outputs": [],
            "source": [
                "# optional step\n",
                "\n",
                "from utils.data_process import build_tokenizer_dataset, tokenizer_json_to_txt\n",
                "\n",
                "pdb_paths = '/mnt/g/Little-LL/pretrain_pdb/'\n",
                "output_path ='/mnt/g/Little-LL/pretrain_tokenizer/'\n",
                "\n",
                "build_tokenizer_dataset(path=pdb_paths, outpath=output_path)\n",
                "tokenizer_json_to_txt(output_path)"
            ]
        },
        {
            "attachments": {},
            "cell_type": "markdown",
            "metadata": {},
            "source": [
                "cd `models/tokenizer` and run `python tokenizer_building.py`\n",
                "\n",
                "the output tokenizer config is in `models/tokenizer/residue` "
            ]
        },
        {
            "attachments": {},
            "cell_type": "markdown",
            "metadata": {},
            "source": [
                "## 2.Build the allosteric site dataset"
            ]
        },
        {
            "cell_type": "code",
            "execution_count": 5,
            "metadata": {},
            "outputs": [
                {
                    "name": "stderr",
                    "output_type": "stream",
                    "text": [
                        " 57%|█████▋    | 1049/1831 [00:19<00:12, 64.03it/s]"
                    ]
                },
                {
                    "name": "stdout",
                    "output_type": "stream",
                    "text": [
                        "pdbid: 3TUV\tchain: B\terror: 'UNK'\n",
                        "pdbid: 3TUV\tchain: B\terror: 'UNK'\n",
                        "pdbid: 3TUV\tchain: B\terror: 'UNK'\n"
                    ]
                },
                {
                    "name": "stderr",
                    "output_type": "stream",
                    "text": [
                        " 86%|████████▌ | 1577/1831 [00:28<00:04, 60.40it/s]"
                    ]
                },
                {
                    "name": "stdout",
                    "output_type": "stream",
                    "text": [
                        "pdbid: 4P02\tchain: D\terror: 'UNK'\n",
                        "pdbid: 4P02\tchain: D\terror: 'UNK'\n",
                        "pdbid: 4P02\tchain: D\terror: 'UNK'\n",
                        "pdbid: 4P02\tchain: D\terror: 'UNK'\n",
                        "pdbid: 4P02\tchain: D\terror: 'UNK'\n",
                        "pdbid: 4P02\tchain: D\terror: 'UNK'\n",
                        "pdbid: 4P02\tchain: D\terror: 'UNK'\n",
                        "pdbid: 4P02\tchain: D\terror: 'UNK'\n",
                        "pdbid: 4P02\tchain: D\terror: 'UNK'\n"
                    ]
                },
                {
                    "name": "stderr",
                    "output_type": "stream",
                    "text": [
                        "100%|██████████| 1831/1831 [00:33<00:00, 54.49it/s]\n",
                        "100%|██████████| 1927/1927 [00:01<00:00, 1471.80it/s]\n",
                        "pdbid:  1W0F_pocket10_atm\n",
                        "chain:  A\n",
                        "L V S L F F V S F I L S\n",
                        "12\n",
                        "['47', '225', '222', '221', '226', '46', '225', '222', '226', '50', '221', '222']\n",
                        "12\n",
                        "[{'x': '75.902', 'y': '98.775', 'z': '17.279'}, {'x': '73.812', 'y': '98.033', 'z': '13.789'}, {'x': '77.212', 'y': '93.433', 'z': '10.360'}, {'x': '74.020', 'y': '92.171', 'z': '14.280'}, {'x': '77.165', 'y': '99.923', 'z': '10.649'}, {'x': '75.534', 'y': '104.430', 'z': '14.306'}, {'x': '74.383', 'y': '100.304', 'z': '12.884'}, {'x': '75.041', 'y': '94.485', 'z': '10.554'}, {'x': '77.822', 'y': '98.674', 'z': '9.482'}, {'x': '73.595', 'y': '96.036', 'z': '17.116'}, {'x': '73.341', 'y': '94.266', 'z': '12.388'}, {'x': '74.544', 'y': '93.444', 'z': '11.445'}]\n"
                    ]
                }
            ],
            "source": [
                "from utils.data_process import build_allosteric_dataset\n",
                "\n",
                "# origin pdb file to input data (json)\n",
                "pdb_dir = 'data/shsmu_allosteric_site/rcsb_pdb/'\n",
                "out_dir = 'data/allosteric_site/input/'\n",
                "build_allosteric_dataset(pdb_dir, out_dir)\n",
                "\n",
                "pdb_dir = 'data/shsmu_allosteric_site/allosteric_site/'\n",
                "out_dir = 'data/allosteric_site/target/'\n",
                "build_allosteric_dataset(pdb_dir, out_dir)"
            ]
        },
        {
            "cell_type": "code",
            "execution_count": 1,
            "metadata": {},
            "outputs": [
                {
                    "name": "stderr",
                    "output_type": "stream",
                    "text": [
                        "100%|██████████| 1927/1927 [00:01<00:00, 990.21it/s] \n"
                    ]
                }
            ],
            "source": [
                "from utils.pre_data import pre_single_a, pre_data\n",
                "\n",
                "as_path = 'data/allosteric_site/target/'\n",
                "pdb_path = 'data/allosteric_site/input/'\n",
                "data_json = 'data/allosteric_site/data_all.json'\n",
                "\n",
                "# pre_single_a(target_dir=as_path, pdb_dir=pdb_path, output_json=data_json)\n",
                "pre_data(target_dir=as_path, pdb_dir=pdb_path, output_json=data_json)"
            ]
        },
        {
            "cell_type": "code",
            "execution_count": 1,
            "metadata": {},
            "outputs": [
                {
                    "name": "stderr",
                    "output_type": "stream",
                    "text": [
                        "100%|██████████| 1813/1813 [00:01<00:00, 1227.74it/s]\n"
                    ]
                }
            ],
            "source": [
                "from utils.pre_data import transform_data, split_train_test\n",
                "\n",
                "data_json = 'data/allosteric_site/data_a.json'\n",
                "data_test = 'data/allosteric_site/data_test.json'\n",
                "data_train = 'data/allosteric_site/data_train.json'\n",
                "\n",
                "inputs, targets = transform_data(data_path=data_json)\n",
                "\n",
                "split_train_test(inputs, targets, train_file=data_train, test_file=data_test)"
            ]
        },
        {
            "cell_type": "code",
            "execution_count": 1,
            "metadata": {},
            "outputs": [],
            "source": [
                "from utils.data_process import extract_from_fpocket\n",
                "\n",
                "fpocket_path = '/home/little-ll/Demo/python/allosteric-site/data/shsmu_allosteric_site/rscb_pdb/fpocket_out_pocketPDB'\n",
                "npy_save_path = '/home/little-ll/Demo/python/allosteric-site/data/shsmu_allosteric_site/rscb_pdb/fpocket_out_pocketNPY'\n",
                "\n",
                "pockets_all = extract_from_fpocket(fpocket_path=fpocket_path, save_path=npy_save_path)\n"
            ]
        },
        {
            "cell_type": "code",
            "execution_count": 9,
            "metadata": {},
            "outputs": [
                {
                    "name": "stdout",
                    "output_type": "stream",
                    "text": [
                        "[{'id': '1A3W_pocket2_atm', 'B': ['THR407', 'GLY490', 'THR424', 'THR403', 'HIS491', 'VAL423', 'GLY484', 'THR406', 'LEU401', 'ARG459', 'TRP452', 'SER492', 'SER404', 'ARG425', 'SER402']}, {'id': '1A3W_pocket35_atm', 'A': ['THR372', 'LYS413', 'ALA290', 'SER377', 'LEU289', 'PRO373', 'PRO375', 'THR376', 'GLU380']}, {'id': '1A3W_pocket37_atm', 'B': ['THR26', 'GLY28', 'ALA336', 'HIS54', 'ASN51', 'ILE27', 'PRO29']}, {'id': '1A3W_pocket3_atm', 'A': ['SER332', 'ASP84', 'GLY265', 'THR298', 'MET330', 'SER53', 'GLU89', 'ARG49', 'GLU242', 'ASP266', 'HIS54', 'SER213', 'ASN51', 'MET261', 'LYS240', 'ALA263', 'PHE214', 'ARG91']}, {'id': '1A3W_pocket17_atm', 'A': ['HIS434', 'SER22', 'TYR436', 'ARG19', 'PHE440', 'ARG41', 'ARG20', 'ASN46', 'GLY44', 'LYS42', 'ARG77', 'THR21', 'ALA43', 'VAL439']}, {'id': '1A3W_pocket30_atm', 'A': ['ARG369', 'ALA388', 'THR372', 'TYR365', 'SER385', 'PRO373', 'ALA384', 'THR376', 'THR381', 'TYR414']}, {'id': '1A3W_pocket26_atm', 'A': ['LEU222', 'GLU226', 'ARG225', 'VAL221', 'VAL256']}, {'id': '1A3W_pocket19_atm', 'A': ['ILE472', 'LEU362', 'ASP17', 'ALA395', 'LYS394', 'PHE391', 'LEU18', 'PRO419', 'GLY471', 'PHE470', 'ASN417', 'CYS418', 'SER16', 'LYS396']}, {'id': '1A3W_pocket23_atm', 'B': ['MET50', 'GLY28', 'ASN32', 'HIS54', 'ASN51', 'HIS60', 'ILE27', 'TYR59', 'VAL63', 'PRO29']}, {'id': '1A3W_pocket4_atm', 'B': ['ASP84', 'SER53', 'GLU242', 'SER213', 'MET261', 'PHE214', 'ARG91', 'THR298', 'GLU89', 'HIS54', 'LYS240', 'ALA263', 'SER332', 'GLY178', 'GLY265', 'ARG49', 'ASP266', 'MET330', 'ASN51']}, {'id': '1A3W_pocket34_atm', 'B': ['THR223', 'ASP220', 'LEU191', 'ALA190', 'PRO189', 'LYS196']}, {'id': '1A3W_pocket6_atm', 'B': ['TYR365', 'LYS413', 'MET368', 'ILE322', 'GLY325', 'ARG437', 'LEU323', 'ILE359', 'TYR361', 'TYR414', 'ASN288', 'ASN364', 'ARG415'], 'A': ['ARG3', 'LEU4']}, {'id': '1A3W_pocket8_atm', 'A': ['TYR144', 'GLY268', 'ARG141', 'ILE269', 'GLU270', 'GLY140', 'PRO274', 'ILE142', 'PRO272', 'PRO182', 'ALA273'], 'B': ['GLU350', 'PRO310', 'PRO308', 'THR347', 'ARG309']}, {'id': '1A3W_pocket13_atm', 'A': ['ASP146', 'ASP147', 'THR311', 'SER303', 'LYS337', 'THR305', 'TYR306', 'GLY333', 'GLU314', 'GLU302'], 'B': ['THR311', 'SER303', 'LYS337', 'THR305', 'TYR306', 'GLY333', 'GLU314', 'GLU302']}, {'id': '1A3W_pocket11_atm', 'A': ['VAL353', 'ASP17', 'GLN357', 'LEU18', 'ARG20', 'TYR361', 'ASN417', 'GLU356']}, {'id': '1A3W_pocket18_atm', 'A': ['MET50', 'GLY28', 'ASN32', 'HIS54', 'ASN51', 'HIS60', 'ILE27', 'TYR59', 'VAL63', 'PRO29']}, {'id': '1A3W_pocket1_atm', 'A': ['THR407', 'GLY490', 'THR424', 'THR403', 'HIS491', 'VAL423', 'GLY484', 'THR406', 'LEU401', 'ARG459', 'TRP452', 'SER492', 'SER404', 'ARG425', 'SER402']}, {'id': '1A3W_pocket25_atm', 'A': ['ASN243', 'PRO88', 'ILE90', 'GLU270', 'LEU181', 'ASN180', 'GLN244', 'THR184', 'VAL179', 'VAL186', 'GLY183', 'GLN245', 'PHE214']}, {'id': '1A3W_pocket31_atm', 'B': ['SER385', 'LEU495', 'ASN493', 'THR378', 'VAL382', 'THR381']}, {'id': '1A3W_pocket20_atm', 'B': ['ILE354', 'LEU10', 'ALA358', 'GLN357'], 'A': ['VAL247', 'LEU283', 'VAL279', 'GLU275', 'ALA278', 'LYS282', 'LYS286']}, {'id': '1A3W_pocket7_atm', 'B': ['ARG3', 'SER2'], 'A': ['ASP367', 'ARG3', 'PRO363', 'ASN370', 'ARG6', 'ASP366', 'SER9', 'SER2', 'ALA360', 'ASN364', 'GLU5']}, {'id': '1A3W_pocket24_atm', 'B': ['GLN280', 'LYS281', 'LEU277', 'VAL276'], 'A': ['SER316', 'ASN320', 'ARG312']}, {'id': '1A3W_pocket29_atm', 'B': ['ARG369', 'ALA388', 'THR372', 'TYR365', 'SER385', 'PRO373', 'ALA384', 'THR376', 'THR381', 'TYR414']}, {'id': '1A3W_pocket5_atm', 'A': ['TYR365', 'LYS413', 'ASN364', 'MET368', 'ILE322', 'ARG437', 'GLY325', 'LEU323', 'TYR361', 'ILE359', 'ASN288', 'TYR414', 'ARG415'], 'B': ['ARG3', 'LEU4']}, {'id': '1A3W_pocket15_atm', 'A': ['TYR436', 'LYS413', 'GLY291', 'SER412', 'ASN288', 'ARG409', 'ASP327', 'LYS292', 'ARG415']}, {'id': '1A3W_pocket21_atm', 'A': ['GLU457', 'TYR479', 'GLN496', 'PHE485', 'THR453', 'GLN483', 'SER481', 'VAL456', 'GLY484', 'ILE460', 'TRP452', 'SER498']}, {'id': '1A3W_pocket10_atm', 'B': ['VAL247', 'LEU283', 'VAL279', 'GLU275', 'ALA278', 'LYS282', 'LYS286'], 'A': ['LEU10', 'ALA358', 'GLN357', 'ILE354']}, {'id': '1A3W_pocket16_atm', 'B': ['GLY178', 'ASN243', 'PRO88', 'ILE90', 'GLU270', 'LEU181', 'GLU89', 'ASP266', 'THR184', 'VAL179', 'VAL186', 'GLN245', 'ASN180', 'PHE214']}, {'id': '1A3W_pocket27_atm', 'B': ['LEU188', 'LYS131', 'ILE90', 'ASN132', 'GLU89', 'TYR130', 'ASP129']}, {'id': '1A3W_pocket32_atm', 'A': ['SER385', 'LEU495', 'ASN493', 'THR378', 'VAL382', 'THR381']}, {'id': '1A3W_pocket33_atm', 'A': ['THR403', 'ALA429', 'CYS426', 'ASP234', 'ARG428', 'PHE432', 'SER404']}, {'id': '1A3W_pocket28_atm', 'B': ['THR403', 'ALA429', 'CYS426', 'ASP234', 'LYS236', 'LYS233', 'PHE432', 'SER404']}, {'id': '1A3W_pocket36_atm', 'A': ['THR223', 'ASP220', 'LEU191', 'ALA190', 'PRO189', 'LYS196']}, {'id': '1A3W_pocket9_atm', 'B': ['TYR436', 'LYS413', 'GLY291', 'SER412', 'ASN288', 'ARG409', 'ASP327', 'LYS292', 'ARG415']}, {'id': '1A3W_pocket22_atm', 'A': ['ARG3', 'SER2'], 'B': ['ARG3', 'ASP367', 'CYS371', 'PRO363', 'ASN370', 'ARG6', 'ILE359', 'LEU323', 'SER2', 'ALA360', 'ASN364']}, {'id': '1A3W_pocket12_atm', 'B': ['TYR144', 'GLY268', 'ARG141', 'ILE269', 'GLU270', 'GLY140', 'ILE142', 'PRO272', 'GLY183', 'PRO182', 'ALA273'], 'A': ['ARG309']}, {'id': '1A3W_pocket14_atm', 'B': ['HIS434', 'SER22', 'TYR436', 'ARG19', 'PHE440', 'ARG20', 'ASN46', 'ARG77', 'THR21', 'VAL439']}]\n"
                    ]
                }
            ],
            "source": [
                "import numpy as np\n",
                "import operator\n",
                "\n",
                "path = '/home/little-ll/Demo/python/allosteric-site/data/shsmu_allosteric_site/rscb_pdb/fpocket_out_pocketNPY/1A3W_out.npy'\n",
                "load_dict = np.load(path, allow_pickle=True).item()\n",
                "print(load_dict['Pockets'])"
            ]
        },
        {
            "cell_type": "code",
            "execution_count": 16,
            "metadata": {},
            "outputs": [
                {
                    "name": "stdout",
                    "output_type": "stream",
                    "text": [
                        "5292\n",
                        "361\n",
                        "2\n"
                    ]
                }
            ],
            "source": [
                "import json\n",
                "\n",
                "with open('data/allosteric_site/data_test.json', 'r') as f:\n",
                "    data = json.load(f)\n",
                "\n",
                "max_len = 0\n",
                "len_1 = []\n",
                "len_2 = []\n",
                "for item in data:\n",
                "    i_len = len(item['input']['sequence'])\n",
                "    if max_len < i_len:\n",
                "        max_len = i_len\n",
                "    if i_len < 1024:\n",
                "        len_1.append(i_len)\n",
                "    else:\n",
                "        len_2.append(i_len)\n",
                "\n",
                "print(max_len)\n",
                "print(len(len_1))\n",
                "print(len(len_2))"
            ]
        }
    ],
    "metadata": {
        "kernelspec": {
            "display_name": "pytorch",
            "language": "python",
            "name": "python3"
        },
        "language_info": {
            "codemirror_mode": {
                "name": "ipython",
                "version": 3
            },
            "file_extension": ".py",
            "mimetype": "text/x-python",
            "name": "python",
            "nbconvert_exporter": "python",
            "pygments_lexer": "ipython3",
            "version": "3.10.4"
        },
        "orig_nbformat": 4
    },
    "nbformat": 4,
    "nbformat_minor": 2
}
