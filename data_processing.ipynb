{
 "cells": [
  {
   "attachments": {},
   "cell_type": "markdown",
   "metadata": {},
   "source": [
    "# Data processing\n",
    "\n",
    "## 1.Downing allosteric site data from shsmu.edu.cn\n",
    "\n",
    "> `data/allosteric_site_shsmu.json` \n",
    "> \n",
    "> contains data crawling form shsmu.edu.cn(home->featrue->site)."
   ]
  },
  {
   "cell_type": "code",
   "execution_count": null,
   "metadata": {},
   "outputs": [],
   "source": [
    "# there are 1928 allosteric site in shsmu, but 1928th 3GVU can not download.\n",
    "\n",
    "from utils.data_download import download_shsmu_as, download_rcsb, unzip\n",
    "\n",
    "allosteric_site_index = 'data/allosteric_site_shsmu.json'\n",
    "\n",
    "download_shsmu_as(allosteric_site_path=allosteric_site_index, outpath='data/shsmu_allosteric_site/')\n",
    "unzip(origin_dir='data/shsmu_allosteric_site/', outdir='data/shsmu_allosteric_site/allosteric_site/')\n",
    "\n",
    "!rm -r data/shsmu_allosteric_site/*.pdb.gz\n",
    "\n",
    "download_rcsb(allosteric_site_path=allosteric_site_index, outpath='data/shsmu_allosteric_site/')\n",
    "\n",
    "!rm -r data/shsmu_allosteric_site/3gvu.pdb.gz\n",
    "\n",
    "unzip(origin_dir='data/shsmu_allosteric_site/', outdir='data/shsmu_allosteric_site/rscb_pdb/')\n",
    "\n",
    "!rm -r data/shsmu_allosteric_site/*.pdb.gz"
   ]
  },
  {
   "attachments": {},
   "cell_type": "markdown",
   "metadata": {},
   "source": [
    "> `data/ASD_Release_201909_AS.txt` \n",
    ">\n",
    "> is the description file of the allostericsite, but hard to read."
   ]
  },
  {
   "cell_type": "code",
   "execution_count": null,
   "metadata": {},
   "outputs": [],
   "source": [
    "from utils.data_process import transform_txt_to_csv\n",
    "\n",
    "txt_path = 'data/ASD_Release_201909_AS.txt'\n",
    "csv_path = 'data/ASD_Release_201909_AS.csv'\n",
    "transform_txt_to_csv(path=txt_path, outpath=csv_path)"
   ]
  },
  {
   "attachments": {},
   "cell_type": "markdown",
   "metadata": {},
   "source": [
    "## 2.Download pretain data form rcsb\n",
    "\n",
    "> `data/pretrain/list_file_protein_xray_max3A_total.txt`\n",
    ">\n",
    "> includes pdbids with resolution of 0.5 ~ 3A obtained by X-Ray experiment."
   ]
  },
  {
   "cell_type": "code",
   "execution_count": null,
   "metadata": {},
   "outputs": [],
   "source": [
    "# download logs are stored in succeed.log, timeout.log, wrang.log\n",
    "\n",
    "from utils.data_download import download_pretarining_data, redownload_error_pretarining_data\n",
    "\n",
    "pdblist = 'data/pretrain/list_file_protein_xray_max3A_total.txt'\n",
    "output_path = 'data/pretrain/'\n",
    "\n",
    "download_pretarining_data(list_path=pdblist, outpath=output_path)"
   ]
  },
  {
   "attachments": {},
   "cell_type": "markdown",
   "metadata": {},
   "source": [
    "> If there are links in timeout.log or wrang.log run redownload_error_pretarining_data() to redownload failed pdbs."
   ]
  },
  {
   "cell_type": "code",
   "execution_count": null,
   "metadata": {},
   "outputs": [],
   "source": [
    "timeout_path = 'data/pretrain/timeout.log'\n",
    "wrang_path = 'data/pretrain/wrang.log'\n",
    "\n",
    "redownload_error_pretarining_data(timeout_path, wrang_path, output_path)"
   ]
  }
 ],
 "metadata": {
  "kernelspec": {
   "display_name": "pytorch",
   "language": "python",
   "name": "python3"
  },
  "language_info": {
   "codemirror_mode": {
    "name": "ipython",
    "version": 3
   },
   "file_extension": ".py",
   "mimetype": "text/x-python",
   "name": "python",
   "nbconvert_exporter": "python",
   "pygments_lexer": "ipython3",
   "version": "3.10.4"
  },
  "orig_nbformat": 4
 },
 "nbformat": 4,
 "nbformat_minor": 2
}
