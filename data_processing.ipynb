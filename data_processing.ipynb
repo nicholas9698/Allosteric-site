{
 "cells": [
  {
   "attachments": {},
   "cell_type": "markdown",
   "metadata": {},
   "source": [
    "# Data downloading\n",
    "\n",
    "## 1.Downing allosteric site data from shsmu.edu.cn\n",
    "\n",
    "> `data/allosteric_site_shsmu.json` \n",
    "> \n",
    "> contains data crawling form shsmu.edu.cn(home->featrue->site)."
   ]
  },
  {
   "cell_type": "code",
   "execution_count": null,
   "metadata": {},
   "outputs": [],
   "source": [
    "# there are 1928 allosteric site in shsmu, but 1928th 3GVU can not download.\n",
    "\n",
    "from utils.data_download import download_shsmu_as, download_rcsb, unzip\n",
    "\n",
    "allosteric_site_index = 'data/allosteric_site_shsmu.json'\n",
    "\n",
    "download_shsmu_as(allosteric_site_path=allosteric_site_index, outpath='data/shsmu_allosteric_site/')\n",
    "unzip(origin_dir='data/shsmu_allosteric_site/', outdir='data/shsmu_allosteric_site/allosteric_site/')\n",
    "\n",
    "!rm -r data/shsmu_allosteric_site/*.pdb.gz\n",
    "\n",
    "download_rcsb(allosteric_site_path=allosteric_site_index, outpath='data/shsmu_allosteric_site/')\n",
    "\n",
    "!rm -r data/shsmu_allosteric_site/3gvu.pdb.gz\n",
    "\n",
    "unzip(origin_dir='data/shsmu_allosteric_site/', outdir='data/shsmu_allosteric_site/rscb_pdb/')\n",
    "\n",
    "!rm -r data/shsmu_allosteric_site/*.pdb.gz"
   ]
  },
  {
   "attachments": {},
   "cell_type": "markdown",
   "metadata": {},
   "source": [
    "> `data/ASD_Release_201909_AS.txt` \n",
    ">\n",
    "> is the description file of the allostericsite, but hard to read."
   ]
  },
  {
   "cell_type": "code",
   "execution_count": null,
   "metadata": {},
   "outputs": [],
   "source": [
    "from utils.data_process import transform_txt_to_csv\n",
    "\n",
    "txt_path = 'data/ASD_Release_201909_AS.txt'\n",
    "csv_path = 'data/ASD_Release_201909_AS.csv'\n",
    "transform_txt_to_csv(path=txt_path, outpath=csv_path)"
   ]
  },
  {
   "attachments": {},
   "cell_type": "markdown",
   "metadata": {},
   "source": [
    "## 2.Download pretain data form rcsb\n",
    "\n",
    "> `data/pretrain/list_file_protein_xray_max3A_total.txt`\n",
    ">\n",
    "> includes pdbids with resolution of 0.5 ~ 3A obtained by X-Ray experiment."
   ]
  },
  {
   "cell_type": "code",
   "execution_count": null,
   "metadata": {},
   "outputs": [],
   "source": [
    "# download logs are stored in succeed.log, timeout.log, wrang.log\n",
    "\n",
    "from utils.data_download import download_pretarining_data, redownload_error_pretarining_data\n",
    "\n",
    "pdblist = 'data/pretrain/list_file_protein_xray_max3A_total.txt'\n",
    "output_path = 'data/pretrain/'\n",
    "\n",
    "download_pretarining_data(list_path=pdblist, outpath=output_path)"
   ]
  },
  {
   "attachments": {},
   "cell_type": "markdown",
   "metadata": {},
   "source": [
    "> If there are links in timeout.log or wrang.log run redownload_error_pretarining_data() to redownload failed pdbs."
   ]
  },
  {
   "cell_type": "code",
   "execution_count": null,
   "metadata": {},
   "outputs": [],
   "source": [
    "timeout_path = 'data/pretrain/timeout.log'\n",
    "wrang_path = 'data/pretrain/wrang.log'\n",
    "\n",
    "redownload_error_pretarining_data(timeout_path, wrang_path, output_path)"
   ]
  },
  {
   "cell_type": "code",
   "execution_count": null,
   "metadata": {},
   "outputs": [],
   "source": [
    "from utils.data_download import unzip\n",
    "\n",
    "dir_path = '/mnt/g/Little-LL/pretrain/'\n",
    "out_path = '/mnt/g/Little-LL/pretrain_pdb/'\n",
    "\n",
    "unzip(dir_path, out_path)"
   ]
  },
  {
   "attachments": {},
   "cell_type": "markdown",
   "metadata": {},
   "source": [
    "# Data processing"
   ]
  },
  {
   "cell_type": "code",
   "execution_count": null,
   "metadata": {},
   "outputs": [],
   "source": [
    "s = \"ATOM      1  N   PHE A   3     127.591  57.948 -15.781  0.50 28.16           N  \"\n",
    "print(s[0:4], s[21], s[17:20], len(s[22:26]), len(s[22:26].strip()))"
   ]
  },
  {
   "attachments": {},
   "cell_type": "markdown",
   "metadata": {},
   "source": [
    "## 1.Build a BERT tokenizer of residue"
   ]
  },
  {
   "cell_type": "code",
   "execution_count": null,
   "metadata": {},
   "outputs": [],
   "source": [
    "# optional step\n",
    "\n",
    "from utils.data_process import build_tokenizer_dataset, tokenizer_json_to_txt\n",
    "\n",
    "pdb_paths = '/mnt/g/Little-LL/pretrain_pdb/'\n",
    "output_path ='/mnt/g/Little-LL/pretrain_tokenizer/'\n",
    "\n",
    "build_tokenizer_dataset(path=pdb_paths, outpath=output_path)\n",
    "tokenizer_json_to_txt(output_path)"
   ]
  },
  {
   "attachments": {},
   "cell_type": "markdown",
   "metadata": {},
   "source": [
    "cd `models/tokenizer` and run `python tokenizer_building.py`\n",
    "\n",
    "the output tokenizer config is in `models/tokenizer/residue` "
   ]
  },
  {
   "attachments": {},
   "cell_type": "markdown",
   "metadata": {},
   "source": [
    "## 2.Build the allosteric site dataset"
   ]
  },
  {
   "cell_type": "code",
   "execution_count": 1,
   "metadata": {},
   "outputs": [
    {
     "name": "stderr",
     "output_type": "stream",
     "text": [
      " 57%|█████▋    | 1049/1831 [00:19<00:12, 64.03it/s]"
     ]
    },
    {
     "name": "stdout",
     "output_type": "stream",
     "text": [
      "pdbid: 3TUV\tchain: B\terror: 'UNK'\n",
      "pdbid: 3TUV\tchain: B\terror: 'UNK'\n",
      "pdbid: 3TUV\tchain: B\terror: 'UNK'\n"
     ]
    },
    {
     "name": "stderr",
     "output_type": "stream",
     "text": [
      " 86%|████████▌ | 1577/1831 [00:28<00:04, 60.40it/s]"
     ]
    },
    {
     "name": "stdout",
     "output_type": "stream",
     "text": [
      "pdbid: 4P02\tchain: D\terror: 'UNK'\n",
      "pdbid: 4P02\tchain: D\terror: 'UNK'\n",
      "pdbid: 4P02\tchain: D\terror: 'UNK'\n",
      "pdbid: 4P02\tchain: D\terror: 'UNK'\n",
      "pdbid: 4P02\tchain: D\terror: 'UNK'\n",
      "pdbid: 4P02\tchain: D\terror: 'UNK'\n",
      "pdbid: 4P02\tchain: D\terror: 'UNK'\n",
      "pdbid: 4P02\tchain: D\terror: 'UNK'\n",
      "pdbid: 4P02\tchain: D\terror: 'UNK'\n"
     ]
    },
    {
     "name": "stderr",
     "output_type": "stream",
     "text": [
      "100%|██████████| 1831/1831 [00:33<00:00, 54.49it/s]\n",
      "100%|██████████| 1927/1927 [00:01<00:00, 1471.80it/s]\n"
     ]
    }
   ],
   "source": [
    "from utils.data_process import build_allosteric_dataset\n",
    "\n",
    "# origin pdb file to input data (json)\n",
    "pdb_dir = 'data/shsmu_allosteric_site/rcsb_pdb/'\n",
    "out_dir = 'data/allosteric_site/input/'\n",
    "build_allosteric_dataset(pdb_dir, out_dir)\n",
    "\n",
    "pdb_dir = 'data/shsmu_allosteric_site/allosteric_site/'\n",
    "out_dir = 'data/allosteric_site/target/'\n",
    "build_allosteric_dataset(pdb_dir, out_dir)"
   ]
  },
  {
   "cell_type": "code",
   "execution_count": 2,
   "metadata": {},
   "outputs": [
    {
     "name": "stderr",
     "output_type": "stream",
     "text": [
      "100%|██████████| 1927/1927 [00:01<00:00, 1568.43it/s]\n"
     ]
    }
   ],
   "source": [
    "from utils.pre_data import pre_single_a\n",
    "\n",
    "as_path = 'data/allosteric_site/target/'\n",
    "pdb_path = 'data/allosteric_site/input/'\n",
    "data_json = 'data/allosteric_site/data_a.json'\n",
    "\n",
    "pre_single_a(target_dir=as_path, pdb_dir=pdb_path, output_json=data_json)"
   ]
  },
  {
   "cell_type": "code",
   "execution_count": 1,
   "metadata": {},
   "outputs": [
    {
     "ename": "ModuleNotFoundError",
     "evalue": "No module named 'sklearn'",
     "output_type": "error",
     "traceback": [
      "\u001b[0;31m---------------------------------------------------------------------------\u001b[0m",
      "\u001b[0;31mModuleNotFoundError\u001b[0m                       Traceback (most recent call last)",
      "\u001b[1;32m/home/nicho/Demo/python/Allosteric-site/data_processing.ipynb 单元格 18\u001b[0m in \u001b[0;36m<cell line: 1>\u001b[0;34m()\u001b[0m\n\u001b[0;32m----> <a href='vscode-notebook-cell:/home/nicho/Demo/python/Allosteric-site/data_processing.ipynb#X26sZmlsZQ%3D%3D?line=0'>1</a>\u001b[0m \u001b[39mfrom\u001b[39;00m \u001b[39mutils\u001b[39;00m\u001b[39m.\u001b[39;00m\u001b[39mpre_data\u001b[39;00m \u001b[39mimport\u001b[39;00m load_data, split_train_test\n\u001b[1;32m      <a href='vscode-notebook-cell:/home/nicho/Demo/python/Allosteric-site/data_processing.ipynb#X26sZmlsZQ%3D%3D?line=2'>3</a>\u001b[0m data_json \u001b[39m=\u001b[39m \u001b[39m'\u001b[39m\u001b[39mdata/allosteric_site/data_a.json\u001b[39m\u001b[39m'\u001b[39m\n\u001b[1;32m      <a href='vscode-notebook-cell:/home/nicho/Demo/python/Allosteric-site/data_processing.ipynb#X26sZmlsZQ%3D%3D?line=4'>5</a>\u001b[0m inputs, targets \u001b[39m=\u001b[39m load_data(data_path\u001b[39m=\u001b[39mdata_json)\n",
      "File \u001b[0;32m~/Demo/python/Allosteric-site/utils/pre_data.py:4\u001b[0m, in \u001b[0;36m<module>\u001b[0;34m\u001b[0m\n\u001b[1;32m      2\u001b[0m \u001b[39mimport\u001b[39;00m \u001b[39mjson\u001b[39;00m\n\u001b[1;32m      3\u001b[0m \u001b[39mfrom\u001b[39;00m \u001b[39mtqdm\u001b[39;00m \u001b[39mimport\u001b[39;00m tqdm\n\u001b[0;32m----> 4\u001b[0m \u001b[39mfrom\u001b[39;00m \u001b[39msklearn\u001b[39;00m\u001b[39m.\u001b[39;00m\u001b[39mmodel_selection\u001b[39;00m \u001b[39mimport\u001b[39;00m train_test_split\n\u001b[1;32m      7\u001b[0m \u001b[39mdef\u001b[39;00m \u001b[39mpre_single_a\u001b[39m(target_dir:\u001b[39mstr\u001b[39m, pdb_dir:\u001b[39mstr\u001b[39m, output_json:\u001b[39mstr\u001b[39m):\n\u001b[1;32m      8\u001b[0m     target_jsons \u001b[39m=\u001b[39m os\u001b[39m.\u001b[39mlistdir(target_dir)\n",
      "\u001b[0;31mModuleNotFoundError\u001b[0m: No module named 'sklearn'"
     ]
    }
   ],
   "source": [
    "from utils.pre_data import load_data, split_train_test\n",
    "\n",
    "data_json = 'data/allosteric_site/data_a.json'\n",
    "\n",
    "inputs, targets = load_data(data_path=data_json)\n",
    "\n",
    "train_set, test_set = split_train_test(inputs, targets)\n",
    "print(train_set[-1])\n",
    "print(len(train_set))\n",
    "print(test_set[-1])\n",
    "print(len(test_set))"
   ]
  }
 ],
 "metadata": {
  "kernelspec": {
   "display_name": "pytorch",
   "language": "python",
   "name": "python3"
  },
  "language_info": {
   "codemirror_mode": {
    "name": "ipython",
    "version": 3
   },
   "file_extension": ".py",
   "mimetype": "text/x-python",
   "name": "python",
   "nbconvert_exporter": "python",
   "pygments_lexer": "ipython3",
   "version": "3.10.4"
  },
  "orig_nbformat": 4
 },
 "nbformat": 4,
 "nbformat_minor": 2
}
